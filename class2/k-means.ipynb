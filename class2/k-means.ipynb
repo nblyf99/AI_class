{
 "cells": [
  {
   "cell_type": "code",
   "execution_count": 2,
   "id": "absent-argument",
   "metadata": {},
   "outputs": [],
   "source": [
    "from pylab import mpl\n",
    "\n",
    "mpl.rcParams['font.sans-serif'] = ['FangSong'] # 指定默认字体\n",
    "mpl.rcParams['axes.unicode_minus'] = False # 解决保存图像是负号'-'显示为方块的问题"
   ]
  },
  {
   "cell_type": "code",
   "execution_count": 3,
   "id": "opposite-posting",
   "metadata": {},
   "outputs": [],
   "source": [
    "coordination_source = \"\"\"\n",
    "{name:'兰州', geoCoord:[103.73, 36.03]},\n",
    "{name:'嘉峪关', geoCoord:[98.17, 39.47]},\n",
    "{name:'西宁', geoCoord:[101.74, 36.56]},\n",
    "{name:'成都', geoCoord:[104.06, 30.67]},\n",
    "{name:'石家庄', geoCoord:[114.48, 38.03]},\n",
    "{name:'拉萨', geoCoord:[102.73, 25.04]},\n",
    "{name:'贵阳', geoCoord:[106.71, 26.57]},\n",
    "{name:'武汉', geoCoord:[114.31, 30.52]},\n",
    "{name:'郑州', geoCoord:[113.65, 34.76]},\n",
    "{name:'济南', geoCoord:[117, 36.65]},\n",
    "{name:'南京', geoCoord:[118.78, 32.04]},\n",
    "{name:'合肥', geoCoord:[117.27, 31.86]},\n",
    "{name:'杭州', geoCoord:[120.19, 30.26]},\n",
    "{name:'南昌', geoCoord:[115.89, 28.68]},\n",
    "{name:'福州', geoCoord:[119.3, 26.08]},\n",
    "{name:'广州', geoCoord:[113.23, 23.16]},\n",
    "{name:'长沙', geoCoord:[113, 28.21]},\n",
    "//{name:'海口', geoCoord:[110.35, 20.02]},\n",
    "{name:'沈阳', geoCoord:[123.38, 41.8]},\n",
    "{name:'长春', geoCoord:[125.35, 43.88]},\n",
    "{name:'哈尔滨', geoCoord:[126.63, 45.75]},\n",
    "{name:'太原', geoCoord:[112.53, 37.87]},\n",
    "{name:'西安', geoCoord:[108.95, 34.27]},\n",
    "//{name:'台湾', geoCoord:[121.30, 25.03]},\n",
    "{name:'北京', geoCoord:[116.46, 39.92]},\n",
    "{name:'上海', geoCoord:[121.48, 31.22]},\n",
    "{name:'重庆', geoCoord:[106.54, 29.59]},\n",
    "{name:'天津', geoCoord:[117.2, 39.13]},\n",
    "{name:'呼和浩特', geoCoord:[111.65, 40.82]},\n",
    "{name:'南宁', geoCoord:[108.33, 22.84]},\n",
    "//{name:'西藏', geoCoord:[91.11, 29.97]},\n",
    "{name:'银川', geoCoord:[106.27, 38.47]},\n",
    "{name:'乌鲁木齐', geoCoord:[87.68, 43.77]},\n",
    "{name:'香港', geoCoord:[114.17, 22.28]},\n",
    "{name:'澳门', geoCoord:[113.54, 22.19]}\n",
    "\"\"\""
   ]
  },
  {
   "cell_type": "code",
   "execution_count": 4,
   "id": "greatest-peter",
   "metadata": {},
   "outputs": [],
   "source": [
    "city_location = {\n",
    "    '香港': (114.17, 22.28)\n",
    "}"
   ]
  },
  {
   "cell_type": "code",
   "execution_count": 5,
   "id": "greenhouse-arbitration",
   "metadata": {},
   "outputs": [],
   "source": [
    "test_string = \"{name:'兰州', geoCoord:[103.73, 36.03]},\""
   ]
  },
  {
   "cell_type": "code",
   "execution_count": 6,
   "id": "whole-wright",
   "metadata": {},
   "outputs": [],
   "source": [
    "import re"
   ]
  },
  {
   "cell_type": "code",
   "execution_count": 7,
   "id": "electrical-single",
   "metadata": {},
   "outputs": [],
   "source": [
    "pattern = re.compile(r\"name:'(\\w+)',\\s+geoCoord:\\[(\\d+.\\d+),\\s(\\d+.\\d+)\\]\")"
   ]
  },
  {
   "cell_type": "code",
   "execution_count": 8,
   "id": "imperial-investing",
   "metadata": {},
   "outputs": [],
   "source": [
    "for line in coordination_source.split('\\n'):\n",
    "    city_info = pattern.findall(line)\n",
    "    if not city_info: continue\n",
    "    \n",
    "    # following: we find the city info\n",
    "    \n",
    "    city, long, lat = city_info[0]\n",
    "    \n",
    "    long, lat = float(long), float(lat)\n",
    "    \n",
    "    city_location[city] = (long, lat)"
   ]
  },
  {
   "cell_type": "code",
   "execution_count": 9,
   "id": "premier-festival",
   "metadata": {},
   "outputs": [
    {
     "data": {
      "text/plain": [
       "{'香港': (114.17, 22.28),\n",
       " '兰州': (103.73, 36.03),\n",
       " '嘉峪关': (98.17, 39.47),\n",
       " '西宁': (101.74, 36.56),\n",
       " '成都': (104.06, 30.67),\n",
       " '石家庄': (114.48, 38.03),\n",
       " '拉萨': (102.73, 25.04),\n",
       " '贵阳': (106.71, 26.57),\n",
       " '武汉': (114.31, 30.52),\n",
       " '郑州': (113.65, 34.76),\n",
       " '济南': (117.0, 36.65),\n",
       " '南京': (118.78, 32.04),\n",
       " '合肥': (117.27, 31.86),\n",
       " '杭州': (120.19, 30.26),\n",
       " '南昌': (115.89, 28.68),\n",
       " '福州': (119.3, 26.08),\n",
       " '广州': (113.23, 23.16),\n",
       " '长沙': (113.0, 28.21),\n",
       " '海口': (110.35, 20.02),\n",
       " '沈阳': (123.38, 41.8),\n",
       " '长春': (125.35, 43.88),\n",
       " '哈尔滨': (126.63, 45.75),\n",
       " '太原': (112.53, 37.87),\n",
       " '西安': (108.95, 34.27),\n",
       " '台湾': (121.3, 25.03),\n",
       " '北京': (116.46, 39.92),\n",
       " '上海': (121.48, 31.22),\n",
       " '重庆': (106.54, 29.59),\n",
       " '天津': (117.2, 39.13),\n",
       " '呼和浩特': (111.65, 40.82),\n",
       " '南宁': (108.33, 22.84),\n",
       " '西藏': (91.11, 29.97),\n",
       " '银川': (106.27, 38.47),\n",
       " '乌鲁木齐': (87.68, 43.77),\n",
       " '澳门': (113.54, 22.19)}"
      ]
     },
     "execution_count": 9,
     "metadata": {},
     "output_type": "execute_result"
    }
   ],
   "source": [
    "city_location"
   ]
  },
  {
   "cell_type": "code",
   "execution_count": 10,
   "id": "competent-taylor",
   "metadata": {},
   "outputs": [],
   "source": [
    "import math"
   ]
  },
  {
   "cell_type": "code",
   "execution_count": 11,
   "id": "swiss-marking",
   "metadata": {},
   "outputs": [],
   "source": [
    "def geo_distance(origin, destination):\n",
    "    \"\"\"\n",
    "    Calculate the Haversine distance.\n",
    "\n",
    "    Parameters\n",
    "    ----------\n",
    "    origin : tuple of float\n",
    "        (lat, long)\n",
    "    destination : tuple of float\n",
    "        (lat, long)\n",
    "\n",
    "    Returns\n",
    "    -------\n",
    "    distance_in_km : float\n",
    "\n",
    "    Examples\n",
    "    --------\n",
    "    >>> origin = (48.1372, 11.5756)  # Munich\n",
    "    >>> destination = (52.5186, 13.4083)  # Berlin\n",
    "    >>> round(distance(origin, destination), 1)\n",
    "    504.2\n",
    "    \"\"\"\n",
    "    lon1, lat1 = origin\n",
    "    lon2, lat2 = destination\n",
    "    radius = 6371  # km\n",
    "\n",
    "    dlat = math.radians(lat2 - lat1)\n",
    "    dlon = math.radians(lon2 - lon1)\n",
    "    a = (math.sin(dlat / 2) * math.sin(dlat / 2) +\n",
    "         math.cos(math.radians(lat1)) * math.cos(math.radians(lat2)) *\n",
    "         math.sin(dlon / 2) * math.sin(dlon / 2))\n",
    "    c = 2 * math.atan2(math.sqrt(a), math.sqrt(1 - a))\n",
    "    d = radius * c\n",
    "\n",
    "    return d"
   ]
  },
  {
   "cell_type": "code",
   "execution_count": 12,
   "id": "digital-mambo",
   "metadata": {},
   "outputs": [],
   "source": [
    "import matplotlib.pyplot as plt"
   ]
  },
  {
   "cell_type": "code",
   "execution_count": 13,
   "id": "front-liver",
   "metadata": {},
   "outputs": [],
   "source": [
    "import networkx as nx"
   ]
  },
  {
   "cell_type": "code",
   "execution_count": 14,
   "id": "automotive-ultimate",
   "metadata": {},
   "outputs": [],
   "source": [
    "%matplotlib inline"
   ]
  },
  {
   "cell_type": "code",
   "execution_count": 15,
   "id": "dangerous-watch",
   "metadata": {},
   "outputs": [
    {
     "data": {
      "image/png": "[encoded data removed]",
      "text/plain": [
       "<Figure size 432x288 with 1 Axes>"
      ]
     },
     "metadata": {},
     "output_type": "display_data"
    }
   ],
   "source": [
    "city_graph = nx.Graph()\n",
    "city_graph.add_nodes_from(list(city_location.keys()))\n",
    "nx.draw(city_graph, city_location, with_labels=True, node_size=30)"
   ]
  },
  {
   "cell_type": "code",
   "execution_count": 16,
   "id": "inclusive-chocolate",
   "metadata": {},
   "outputs": [],
   "source": [
    "k = 10"
   ]
  },
  {
   "cell_type": "code",
   "execution_count": 17,
   "id": "failing-distinction",
   "metadata": {},
   "outputs": [],
   "source": [
    "import random"
   ]
  },
  {
   "cell_type": "code",
   "execution_count": 18,
   "id": "strange-armenia",
   "metadata": {},
   "outputs": [],
   "source": [
    "all_x = []\n",
    "all_y = []\n",
    "\n",
    "for _, location in city_location.items():\n",
    "    x, y = location\n",
    "    \n",
    "    all_x.append(x)\n",
    "    all_y.append(y)"
   ]
  },
  {
   "cell_type": "code",
   "execution_count": 19,
   "id": "amazing-chester",
   "metadata": {},
   "outputs": [],
   "source": [
    "def get_random_center(all_x, all_y):\n",
    "    r_x = random.uniform(min(all_x), max(all_x))\n",
    "    r_y = random.uniform(min(all_y), max(all_y))\n",
    "    \n",
    "    return r_x, r_y"
   ]
  },
  {
   "cell_type": "code",
   "execution_count": 20,
   "id": "acting-yahoo",
   "metadata": {},
   "outputs": [
    {
     "data": {
      "text/plain": [
       "(90.67013214771868, 42.64477257716949)"
      ]
     },
     "execution_count": 20,
     "metadata": {},
     "output_type": "execute_result"
    }
   ],
   "source": [
    "get_random_center(all_x, all_y)"
   ]
  },
  {
   "cell_type": "code",
   "execution_count": 21,
   "id": "respiratory-expert",
   "metadata": {},
   "outputs": [],
   "source": [
    "K = 5\n",
    "centers = {'{}'.format(i+1): get_random_center(all_x, all_y) for i in range(K)}"
   ]
  },
  {
   "cell_type": "code",
   "execution_count": 22,
   "id": "intensive-tamil",
   "metadata": {},
   "outputs": [],
   "source": [
    "from collections import defaultdict"
   ]
  },
  {
   "cell_type": "code",
   "execution_count": 23,
   "id": "residential-letter",
   "metadata": {},
   "outputs": [],
   "source": [
    "closet_points = defaultdict(list)\n",
    "\n",
    "for x, y, in zip(all_x, all_y):\n",
    "    closet_c, closet_dis = min([(k, geo_distance((x, y), centers[k])) for k in centers], key=lambda t: t[1])    \n",
    "    \n",
    "    closet_points[closet_c].append([x, y])"
   ]
  },
  {
   "cell_type": "code",
   "execution_count": 24,
   "id": "optional-belfast",
   "metadata": {},
   "outputs": [],
   "source": [
    "import numpy as np"
   ]
  },
  {
   "cell_type": "code",
   "execution_count": 25,
   "id": "fourth-latter",
   "metadata": {},
   "outputs": [],
   "source": [
    "def iterate_once(centers, closet_points, threshold=5):\n",
    "    have_changed = False\n",
    "    \n",
    "    for c in closet_points:\n",
    "        former_center = centers[c]\n",
    "\n",
    "        neighbors = closet_points[c]\n",
    "\n",
    "        neighbors_center = np.mean(neighbors, axis=0)\n",
    "\n",
    "        if geo_distance(neighbors_center, former_center) > threshold:\n",
    "            centers[c] = neighbors_center\n",
    "            have_changed = True\n",
    "        else:\n",
    "            pass ## keep former center\n",
    "        \n",
    "    return centers, have_changed"
   ]
  },
  {
   "cell_type": "code",
   "execution_count": 26,
   "id": "illegal-produce",
   "metadata": {},
   "outputs": [],
   "source": [
    "def kmeans(Xs, k, threshold=5):\n",
    "    all_x = Xs[:, 0]\n",
    "    all_y = Xs[:, 1]\n",
    "    \n",
    "    K = k\n",
    "    \n",
    "    centers = {'{}'.format(i+1): get_random_center(all_x, all_y) for i in range(K)}\n",
    "    \n",
    "    changed = True\n",
    "    \n",
    "    while changed:\n",
    "        closet_points = defaultdict(list)\n",
    "\n",
    "        for x, y, in zip(all_x, all_y):\n",
    "            closet_c, closet_dis = min([(k, geo_distance((x, y), centers[k])) for k in centers], key=lambda t: t[1])    \n",
    "            closet_points[closet_c].append([x, y])   \n",
    "            \n",
    "        centers, changed = iterate_once(centers, closet_points, threshold)\n",
    "        print('iteration')\n",
    "\n",
    "    return centers"
   ]
  },
  {
   "cell_type": "code",
   "execution_count": 27,
   "id": "clean-physiology",
   "metadata": {},
   "outputs": [
    {
     "name": "stdout",
     "output_type": "stream",
     "text": [
      "iteration\n",
      "iteration\n",
      "iteration\n",
      "iteration\n"
     ]
    },
    {
     "data": {
      "text/plain": [
       "{'1': array([111.67571429,  25.77714286]),\n",
       " '2': (94.15995639484112, 22.82780909302629),\n",
       " '3': array([91.11, 29.97]),\n",
       " '4': array([99.518, 38.86 ]),\n",
       " '5': array([117.66666667,  37.21733333])}"
      ]
     },
     "execution_count": 27,
     "metadata": {},
     "output_type": "execute_result"
    }
   ],
   "source": [
    "kmeans(np.array(list(city_location.values())), k=5, threshold=5)"
   ]
  },
  {
   "cell_type": "code",
   "execution_count": 28,
   "id": "finite-turning",
   "metadata": {},
   "outputs": [
    {
     "data": {
      "text/plain": [
       "<matplotlib.collections.PathCollection at 0x1acd8263d60>"
      ]
     },
     "execution_count": 28,
     "metadata": {},
     "output_type": "execute_result"
    },
    {
     "data": {
      "image/png": "[encoded data removed]",
      "text/plain": [
       "<Figure size 432x288 with 1 Axes>"
      ]
     },
     "metadata": {
      "needs_background": "light"
     },
     "output_type": "display_data"
    }
   ],
   "source": [
    "plt.scatter(all_x, all_y)\n",
    "plt.scatter(*zip(*centers.values()))"
   ]
  },
  {
   "cell_type": "code",
   "execution_count": 29,
   "id": "prescription-gabriel",
   "metadata": {},
   "outputs": [
    {
     "data": {
      "image/png": "[encoded data removed]",
      "text/plain": [
       "<Figure size 432x288 with 1 Axes>"
      ]
     },
     "metadata": {
      "needs_background": "light"
     },
     "output_type": "display_data"
    }
   ],
   "source": [
    "for c, points in closet_points.items():\n",
    "    plt.scatter(*zip(*points))"
   ]
  },
  {
   "cell_type": "code",
   "execution_count": 30,
   "id": "resistant-search",
   "metadata": {},
   "outputs": [],
   "source": [
    "city_location_with_station = {\n",
    "    '能源站-{}'.format(i): position for i, position in centers.items()\n",
    "}"
   ]
  },
  {
   "cell_type": "code",
   "execution_count": 31,
   "id": "about-chapter",
   "metadata": {},
   "outputs": [
    {
     "data": {
      "text/plain": [
       "{'能源站-1': (113.63525690659336, 22.33892965348429),\n",
       " '能源站-2': (103.06794091241994, 43.2049201211915),\n",
       " '能源站-3': (110.07215576981024, 30.043738062305813),\n",
       " '能源站-4': (118.43284050027674, 23.131373393818365),\n",
       " '能源站-5': (95.78327566998291, 42.31971921834566)}"
      ]
     },
     "execution_count": 31,
     "metadata": {},
     "output_type": "execute_result"
    }
   ],
   "source": [
    "city_location_with_station"
   ]
  },
  {
   "cell_type": "code",
   "execution_count": 32,
   "id": "interim-alpha",
   "metadata": {},
   "outputs": [],
   "source": [
    "def draw_cities(citise, color=None):\n",
    "    city_graph = nx.Graph()\n",
    "    city_graph.add_nodes_from(list(citise.keys()))\n",
    "    nx.draw(city_graph, citise, node_color=color, with_labels=True, node_size=30)"
   ]
  },
  {
   "cell_type": "code",
   "execution_count": 33,
   "id": "dressed-foundation",
   "metadata": {},
   "outputs": [],
   "source": [
    "%matplotlib inline"
   ]
  },
  {
   "cell_type": "code",
   "execution_count": null,
   "id": "pregnant-namibia",
   "metadata": {},
   "outputs": [],
   "source": [
    "plt.figure(1,figsize=(12,12)) \n",
    "draw_cities(city_location_with_station, color='green')\n",
    "draw_cities(city_location, color='red')"
   ]
  },
  {
   "cell_type": "code",
   "execution_count": null,
   "id": "blond-montreal",
   "metadata": {},
   "outputs": [],
   "source": []
  }
 ],
 "metadata": {
  "kernelspec": {
   "display_name": "Python [conda env:pytorch] *",
   "language": "python",
   "name": "conda-env-pytorch-py"
  },
  "language_info": {
   "codemirror_mode": {
    "name": "ipython",
    "version": 3
   },
   "file_extension": ".py",
   "mimetype": "text/x-python",
   "name": "python",
   "nbconvert_exporter": "python",
   "pygments_lexer": "ipython3",
   "version": "3.8.8"
  }
 },
 "nbformat": 4,
 "nbformat_minor": 5
}
